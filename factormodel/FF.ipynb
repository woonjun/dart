{
 "cells": [
  {
   "cell_type": "code",
   "execution_count": 1,
   "metadata": {},
   "outputs": [],
   "source": [
    "import pandas as pd\n",
    "import numpy as np\n",
    "import matplotlib as mpl\n",
    "import matplotlib.pyplot as plt\n",
    "import statsmodels.api as sm"
   ]
  },
  {
   "cell_type": "code",
   "execution_count": 2,
   "metadata": {},
   "outputs": [],
   "source": [
    "sector = pd.read_csv('sector.csv', index_col=0) #좌변 포트폴리오\n",
    "price = pd.read_csv('price.csv', index_col=0) #가격데이터\n",
    "monthly_return = pd.read_csv('monthly_return.csv', index_col=0) #종목별 월별 수익률\n",
    "\n",
    "#Rm - Rf\n",
    "market_return = pd.read_csv('market_excess_return.csv', index_col=0) #시장 수익률\n",
    "\n",
    "op = pd.read_csv('op.csv', index_col=0) #profit\n",
    "pbr = pd.read_csv('pbr.csv', index_col=0) #b/m\n",
    "size = pd.read_csv('size.csv', index_col=0) #size\n",
    "inv = pd.read_csv('inv.csv', index_col=0) #inv\n"
   ]
  },
  {
   "cell_type": "code",
   "execution_count": 10,
   "metadata": {},
   "outputs": [],
   "source": [
    "sector = sector*0.01"
   ]
  },
  {
   "cell_type": "code",
   "execution_count": 3,
   "metadata": {},
   "outputs": [],
   "source": [
    "monthly_return = monthly_return - 1"
   ]
  },
  {
   "cell_type": "code",
   "execution_count": 4,
   "metadata": {},
   "outputs": [],
   "source": [
    "def get_factor_premium(i : int, Factor : pd.DataFrame): \n",
    "    companies = monthly_return.iloc[i,:].dropna().index\n",
    "    companies = size.iloc[i][companies]\n",
    "    size_median = companies.median() # Size 중위값 설정\n",
    "\n",
    "    # 1. 사이즈별 분류\n",
    "    big_pf = companies[companies > size_median] # Large Cap 그룹\n",
    "    small_pf = companies[companies < size_median] # Small Cap 그룹\n",
    "\n",
    "    # 2. 사이즈 분류 후 팩터 내 분류\n",
    "    # 2.1 Large & Factor High / Low\n",
    "    big_factor_companies = Factor.iloc[i,:][big_pf.index] # Large Cap 그룹 내에서 팩터 분류 시작\n",
    "    big_factor = big_factor_companies.dropna() # Factor 값 없는 종목 Drop\n",
    "    big_upper = big_factor[big_factor > big_factor.quantile(0.7)].index # Large Cap 중 팩터 상위 30% 종목\n",
    "    big_low = big_factor[big_factor.quantile(0.3) > big_factor].index # Large Cap 중 팩터 하위 30% 종목\n",
    "\n",
    "    # 2.2 Small & Factor High / Low\n",
    "    small_factor_companies = Factor.iloc[i,:][small_pf.index] # Small Cap 그룹\n",
    "    small_factor = small_factor_companies.dropna() # Factor 값 없는 종목 Drop\n",
    "    small_upper = small_factor[small_factor > small_factor.quantile(0.7)].index # Small Cap 중 팩터 상위 30% 종목\n",
    "    small_low = small_factor[small_factor.quantile(0.3) > small_factor].index # Small Cap 중 팩터 하위 30% 종목\n",
    "\n",
    "    # 3. 시가총액 비중 가중치 할당\n",
    "    mkt_cap = size.iloc[i,:].dropna()\n",
    "\n",
    "    weight_big_upper = mkt_cap[big_upper] / mkt_cap[big_upper].sum()\n",
    "    weight_big_low = mkt_cap[big_low] / mkt_cap[big_low].sum()\n",
    "\n",
    "    weight_small_upper = mkt_cap[small_upper] / mkt_cap[small_upper].sum()\n",
    "    weight_small_low = mkt_cap[small_low] / mkt_cap[small_low].sum()\n",
    "\n",
    "    # 4. 포트폴리오별 수익률 계산\n",
    "    returns = monthly_return.iloc[i,:]\n",
    "    big_upper_return = returns[big_upper] @ weight_big_upper\n",
    "    big_low_return = returns[big_low] @ weight_big_low\n",
    "\n",
    "    small_upper_return = returns[small_upper] @ weight_small_upper\n",
    "    small_low_return = returns[small_low] @ weight_small_low\n",
    "\n",
    "    # 5. 팩터 프리미엄 계산\n",
    "    factor_premium = ((big_upper_return + small_upper_return)/2) - ((big_low_return + small_low_return)/2)\n",
    "    size_premium = (small_upper_return + small_low_return)/2 - (big_upper_return + big_low_return)/2\n",
    "    return factor_premium, size_premium"
   ]
  },
  {
   "cell_type": "code",
   "execution_count": 5,
   "metadata": {},
   "outputs": [],
   "source": [
    "size_pm_df = pd.DataFrame(columns = ['SMB_value', 'SMB_profit', 'SMB_inv'], index = monthly_return.index)\n",
    "\n",
    "HML = []\n",
    "RMW = []\n",
    "CMA = []\n",
    "\n",
    "\n",
    "for i in range(len(monthly_return)):\n",
    "    vf, sf = get_factor_premium(i, pbr)\n",
    "    HML.append(vf)\n",
    "    size_pm_df.iloc[i]['SMB_value'] = sf\n",
    "for i in range(len(monthly_return)):\n",
    "    qp, sp = get_factor_premium(i, op)\n",
    "    RMW.append(qp)\n",
    "    size_pm_df.iloc[i]['SMB_profit'] = sp\n",
    "for i in range(len(monthly_return)):\n",
    "    mp, sp = get_factor_premium(i, inv)\n",
    "    CMA.append(mp)\n",
    "    size_pm_df.iloc[i]['SMB_inv'] = sp\n",
    "\n",
    "\n",
    "PREMIUM = pd.DataFrame({'HML' : HML, \n",
    "                        'CMA' : RMW,\n",
    "                        'UMD' : CMA,\n",
    "                        'SMB' : size_pm_df.mean(axis = 'columns').values\n",
    "                        }, index = monthly_return.index)"
   ]
  },
  {
   "cell_type": "code",
   "execution_count": 6,
   "metadata": {},
   "outputs": [],
   "source": [
    "PREMIUM['Rm-Rf'] = market_return['Rm-Rf']\n",
    "start_date = '2000-01-31'\n",
    "sector = sector.loc[start_date:]\n",
    "PREMIUM = PREMIUM.loc[start_date:]\n",
    "market_return = market_return.loc[start_date:]\n",
    "rf = market_return['Rf']\n",
    "rf.index = pd.to_datetime(rf.index)\n",
    "sector.index = pd.to_datetime(sector.index)\n",
    "sector_return = sector.sub(rf, axis = 0)\n",
    "PREMIUM.index = pd.to_datetime(PREMIUM.index)\n",
    "exposure = pd.DataFrame(index = ['const', 'HML', 'CMA', 'UMD', 'SMB', 'Rm-Rf'], columns = sector_return.columns).T"
   ]
  },
  {
   "cell_type": "code",
   "execution_count": 65,
   "metadata": {},
   "outputs": [
    {
     "name": "stdout",
     "output_type": "stream",
     "text": [
      "const    0.000839\n",
      "HML     -0.000313\n",
      "CMA      0.000790\n",
      "UMD     -0.018047\n",
      "SMB      0.004330\n",
      "Rm-Rf    0.916761\n",
      "dtype: float64\n"
     ]
    }
   ],
   "source": [
    "X = PREMIUM\n",
    "Y = sector_return['경기관련소비재']\n",
    "\n",
    "X = sm.add_constant(X)\n",
    "model = sm.OLS(Y, X).fit()\n",
    "\n",
    "print(model.params)\n",
    "#개씨발뭐지..."
   ]
  },
  {
   "cell_type": "code",
   "execution_count": 75,
   "metadata": {},
   "outputs": [
    {
     "name": "stdout",
     "output_type": "stream",
     "text": [
      "에너지\n",
      "소재\n",
      "산업재\n",
      "경기관련소비재\n",
      "필수소비재\n",
      "건강관리\n",
      "금융\n",
      "IT\n",
      "커뮤니케이션서비스\n",
      "유틸리티\n"
     ]
    }
   ],
   "source": [
    "for column in sector_return.columns:\n",
    "    print(column)\n",
    "    Y = sector_return[column]\n",
    "    X = sm.add_constant(X)\n",
    "    model = sm.OLS(Y,X).fit()\n",
    "    #const, HML, CMA, UMD, SMB, BETA = model.params\n",
    "\n",
    "    exposure.loc[column] = model.params\n"
   ]
  },
  {
   "cell_type": "code",
   "execution_count": 77,
   "metadata": {},
   "outputs": [],
   "source": [
    "exposure.to_csv('Factor_Exposure.csv')"
   ]
  }
 ],
 "metadata": {
  "kernelspec": {
   "display_name": "Python 3",
   "language": "python",
   "name": "python3"
  },
  "language_info": {
   "codemirror_mode": {
    "name": "ipython",
    "version": 3
   },
   "file_extension": ".py",
   "mimetype": "text/x-python",
   "name": "python",
   "nbconvert_exporter": "python",
   "pygments_lexer": "ipython3",
   "version": "3.11.2"
  }
 },
 "nbformat": 4,
 "nbformat_minor": 2
}
